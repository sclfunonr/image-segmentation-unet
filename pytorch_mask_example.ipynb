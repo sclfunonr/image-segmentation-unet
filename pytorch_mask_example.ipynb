{
  "nbformat": 4,
  "nbformat_minor": 0,
  "metadata": {
    "colab": {
      "provenance": [],
      "authorship_tag": "ABX9TyOdMYG91gnRHF8m1lUULl3Z",
      "include_colab_link": true
    },
    "kernelspec": {
      "name": "python3",
      "display_name": "Python 3"
    },
    "language_info": {
      "name": "python"
    }
  },
  "cells": [
    {
      "cell_type": "markdown",
      "metadata": {
        "id": "view-in-github",
        "colab_type": "text"
      },
      "source": [
        "<a href=\"https://colab.research.google.com/github/sclfunonr/image-segmentation-unet/blob/main/pytorch_mask_example.ipynb\" target=\"_parent\"><img src=\"https://colab.research.google.com/assets/colab-badge.svg\" alt=\"Open In Colab\"/></a>"
      ]
    },
    {
      "cell_type": "code",
      "execution_count": 1,
      "metadata": {
        "colab": {
          "base_uri": "https://localhost:8080/"
        },
        "id": "zw0aL_MWHnj5",
        "outputId": "04431b6d-9db8-489d-b56d-3d80470393d5"
      },
      "outputs": [
        {
          "output_type": "stream",
          "name": "stdout",
          "text": [
            "tensor([[3, 0, 2],\n",
            "        [0, 9, 0],\n",
            "        [6, 0, 8]])\n"
          ]
        }
      ],
      "source": [
        "import torch\n",
        "\n",
        "A = torch.tensor([[3,7,2], [5,9,1], [6,4,8]])\n",
        "\n",
        "# same shape as A\n",
        "mask = torch.tensor([[1,0,1],[0,1,0], [1,0,1]], dtype=torch.bool)\n",
        "\n",
        "# Apply the mask\n",
        "masked_A = A * mask # Element-wise multiplication\n",
        "\n",
        "print(masked_A)\n",
        "\n",
        "\"\"\"\n",
        "Useful in neural netowrks, especially for padding in NLP or ignoring certain values in attention mechanisms.\n",
        "\"\"\""
      ]
    },
    {
      "cell_type": "code",
      "source": [],
      "metadata": {
        "id": "n7J1TaHQIOuP"
      },
      "execution_count": null,
      "outputs": []
    }
  ]
}